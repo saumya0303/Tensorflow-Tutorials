{
  "nbformat": 4,
  "nbformat_minor": 0,
  "metadata": {
    "colab": {
      "name": "Tensoflow1.0.ipynb",
      "provenance": [],
      "collapsed_sections": []
    },
    "kernelspec": {
      "display_name": "Python 3",
      "name": "python3"
    }
  },
  "cells": [
    {
      "cell_type": "markdown",
      "metadata": {
        "id": "aKyyB2C4WmFs"
      },
      "source": [
        "**Python libraries that used in Machine Learning are:**\n",
        "- Numpy\n",
        "- Scipy\n",
        "- Scikit-learn\n",
        "- TensorFlow\n",
        "- Keras\n",
        "- PyTorch\n",
        "- Pandas\n",
        "- Matplotlib\n",
        "\n",
        "\n",
        "**What is Tensor?**\n",
        "\n",
        "An n-dimensional array\n",
        "- 0-d tensor: scalar (number)\n",
        "- 1-d tensor: vector\n",
        "- 2-d tensor: matrix\n",
        "and so on \n",
        "\n",
        "**What is TensorFlow?**\n",
        "\n",
        "Tensors are data.\n",
        "\n",
        "Data Flow => Tensor Flow \n",
        "\n",
        "**Tensorflow is an open-source software library for machine learning.**\n",
        "\n",
        "\n",
        "\n",
        "\n",
        "\n",
        "Released by Google in 2015.\n",
        "\n",
        "Easier to learn and use for beginner and expert.\n",
        "\n",
        "Tensorflow provides an extensive suite of functions and classes that allow users to build various models from scratch.\n",
        "\n",
        "**Applications of Tensorflow**\n",
        "\n",
        "- Speech Recognition Systems\n",
        "- Image/Video Recognition \n",
        "- Self Driving Cars\n",
        "- Text Summarization\n",
        "- Sentiment Analysis\n",
        "- Generative Handwriting\n",
        "\n",
        "**Companies using Tensorflow**\n",
        "- Google\n",
        "- OpenAI\n",
        "- DeepMind\n",
        "- Snapchat\n",
        "- Uber\n",
        "- Airbus\n",
        "- eBay\n",
        "- Dropbox\n",
        "- A bunch of startups\n",
        "\n",
        "\n"
      ]
    },
    {
      "cell_type": "markdown",
      "metadata": {
        "id": "muFkpYFEX3HI"
      },
      "source": [
        "**Why Tensorflow?**\n",
        "- Portability: deploy computation to one or more CPUs or GPUs in a desktop,\n",
        "server, or mobile device with a single API\n",
        "- Flexibility: from Raspberry Pi, Android, Windows, iOS, Linux to server farms\n",
        "- Visualization (TensorBoard )\n",
        "- Checkpoints (for managing experiments)\n",
        "- Auto-differentiation autodiff (no more taking derivatives by hand.)\n",
        "- Large community (> 10,000 commits and > 3000 TF-related repos in 1 year)\n",
        "- Awesome projects already using TensorFlow"
      ]
    },
    {
      "cell_type": "markdown",
      "metadata": {
        "id": "TwYvoN2NaWqH"
      },
      "source": [
        "\n",
        "\n",
        "**Why graphs ?**\n",
        "- Save computation (only run subgraphs that lead\n",
        "to the values you want to fetch)\n",
        "- Break computation into small, differential pieces\n",
        "to facilitates auto-differentiation\n",
        "- Facilitate distributed computation, spread the\n",
        "work across multiple CPUs, GPUs, or devices\n",
        "- Many common machine learning models are\n",
        "commonly taught and visualized as directed\n",
        "graphs already\n",
        "\n"
      ]
    },
    {
      "cell_type": "markdown",
      "metadata": {
        "id": "fb3bJb5-t5fp"
      },
      "source": [
        "**TensorFlow Graphs**\n",
        "- Graphs are sets of connected nodes (vertices).\n",
        "- The connections are referred to as edges.\n",
        "- In TensorFlow each node is an operation\n",
        "with possible inputs that can supply some output.\n",
        "- In general, with TensorFlow we will construct a graph and then execute it.\n",
        "\n"
      ]
    },
    {
      "cell_type": "markdown",
      "metadata": {
        "id": "8wLAplf5uZz3"
      },
      "source": [
        "There are two main types of tensor objects in a Graph:\n",
        "- Variables\n",
        "- Placeholder\n",
        "\n",
        "During the optimization process TensorFlow tunes the parameters of the model."
      ]
    },
    {
      "cell_type": "markdown",
      "metadata": {
        "id": "zVOsBJhNS-fo"
      },
      "source": [
        "**Variables** : A TensorFlow variable is the recommended way to represent shared, persistent state your program manipulates.\n",
        "- Variables are created and tracked via the tf.Variable class.\n",
        "- The tf.Variable will have the same dtype as the initialization value.\n",
        "- Variables can hold the values throughout the session.\n",
        "- Variables need to be initialized.\n",
        " "
      ]
    },
    {
      "cell_type": "markdown",
      "metadata": {
        "id": "xfiqg4COu3OW"
      },
      "source": [
        "**Placeholder**\n",
        "- Placeholders are initially empty and are used to feed in the actual training examples.\n",
        "- Placeholders are tensors of values that are unknown during the graph\n",
        "construction, but passed as input during a session\n",
        "- However they do need a declared expected data type (tf.float32) with an optional shape argument.\n",
        "- Analogy:\n",
        "Can define the function f(x, y) = x*2 + y without knowing value of x or y. x, y are\n",
        "placeholders for the actual values.\n",
        "- We can later supply our own data when they\n",
        "need to execute the computation. \n",
        "- Feed the values to placeholders using a\n",
        "dictionary\n",
        "\n",
        "**Syntax**\n",
        "\n",
        "- tf.placeholder(dtype, shape=None, name=None)\n",
        "\n",
        "- shape=None means that tensor of any\n",
        "shape will be accepted as value for\n",
        "placeholder."
      ]
    },
    {
      "cell_type": "code",
      "metadata": {
        "id": "mX3tcW99CAad"
      },
      "source": [
        "%%capture\n",
        "!pip install tensorflow==1.13.01"
      ],
      "execution_count": null,
      "outputs": []
    },
    {
      "cell_type": "code",
      "metadata": {
        "id": "57pAlgPHt5kB",
        "colab": {
          "base_uri": "https://localhost:8080/"
        },
        "outputId": "19361add-cc3b-42c2-a4e0-169ddb6b2a33"
      },
      "source": [
        "import tensorflow as tf"
      ],
      "execution_count": null,
      "outputs": [
        {
          "output_type": "stream",
          "text": [
            "/usr/local/lib/python3.6/dist-packages/tensorflow/python/framework/dtypes.py:526: FutureWarning: Passing (type, 1) or '1type' as a synonym of type is deprecated; in a future version of numpy, it will be understood as (type, (1,)) / '(1,)type'.\n",
            "  _np_qint8 = np.dtype([(\"qint8\", np.int8, 1)])\n",
            "/usr/local/lib/python3.6/dist-packages/tensorflow/python/framework/dtypes.py:527: FutureWarning: Passing (type, 1) or '1type' as a synonym of type is deprecated; in a future version of numpy, it will be understood as (type, (1,)) / '(1,)type'.\n",
            "  _np_quint8 = np.dtype([(\"quint8\", np.uint8, 1)])\n",
            "/usr/local/lib/python3.6/dist-packages/tensorflow/python/framework/dtypes.py:528: FutureWarning: Passing (type, 1) or '1type' as a synonym of type is deprecated; in a future version of numpy, it will be understood as (type, (1,)) / '(1,)type'.\n",
            "  _np_qint16 = np.dtype([(\"qint16\", np.int16, 1)])\n",
            "/usr/local/lib/python3.6/dist-packages/tensorflow/python/framework/dtypes.py:529: FutureWarning: Passing (type, 1) or '1type' as a synonym of type is deprecated; in a future version of numpy, it will be understood as (type, (1,)) / '(1,)type'.\n",
            "  _np_quint16 = np.dtype([(\"quint16\", np.uint16, 1)])\n",
            "/usr/local/lib/python3.6/dist-packages/tensorflow/python/framework/dtypes.py:530: FutureWarning: Passing (type, 1) or '1type' as a synonym of type is deprecated; in a future version of numpy, it will be understood as (type, (1,)) / '(1,)type'.\n",
            "  _np_qint32 = np.dtype([(\"qint32\", np.int32, 1)])\n",
            "/usr/local/lib/python3.6/dist-packages/tensorflow/python/framework/dtypes.py:535: FutureWarning: Passing (type, 1) or '1type' as a synonym of type is deprecated; in a future version of numpy, it will be understood as (type, (1,)) / '(1,)type'.\n",
            "  np_resource = np.dtype([(\"resource\", np.ubyte, 1)])\n"
          ],
          "name": "stderr"
        }
      ]
    },
    {
      "cell_type": "code",
      "metadata": {
        "id": "o8uAlct0CBMn",
        "colab": {
          "base_uri": "https://localhost:8080/"
        },
        "outputId": "344f8d45-a7d8-4073-aa85-f6b2a3d08c8e"
      },
      "source": [
        "print(tf.__version__)"
      ],
      "execution_count": null,
      "outputs": [
        {
          "output_type": "stream",
          "text": [
            "1.13.1\n"
          ],
          "name": "stdout"
        }
      ]
    },
    {
      "cell_type": "markdown",
      "metadata": {
        "id": "43Bqub7b7lT6"
      },
      "source": [
        "**Steps to do operations using tensorflow**\n",
        "- Build a Graph\n",
        "- Initiate the Session\n",
        "- Feed Data In and get Output"
      ]
    },
    {
      "cell_type": "markdown",
      "metadata": {
        "id": "cqZIBddr7oQ2"
      },
      "source": [
        "**Session**\n",
        "\n",
        "A Session object encapsulates the environment in which Operation objects are\n",
        "executed, and Tensor objects are evaluated."
      ]
    },
    {
      "cell_type": "code",
      "metadata": {
        "id": "Dm3KoNIdcx6_",
        "colab": {
          "base_uri": "https://localhost:8080/"
        },
        "outputId": "e462bc16-fff3-43d2-aee4-01671d22ff0a"
      },
      "source": [
        "import tensorflow as tf\n",
        "\n",
        "# Construction phase to build a graph\n",
        "a = tf.Variable(6)\n",
        "b = tf.Variable(3)\n",
        "\n",
        "# Tensorflow created a graph but did not execute the graph yet\n",
        "# A session is needed to run the graph \n",
        "c = tf.add(a,b)\n",
        "print(\"==============\")\n",
        "print(\"The sum of a and b is:\", c) # we did not get the expected answer, i.e: 9\n",
        "print(\"==============\")"
      ],
      "execution_count": null,
      "outputs": [
        {
          "output_type": "stream",
          "text": [
            "WARNING:tensorflow:From /usr/local/lib/python3.6/dist-packages/tensorflow/python/framework/op_def_library.py:263: colocate_with (from tensorflow.python.framework.ops) is deprecated and will be removed in a future version.\n",
            "Instructions for updating:\n",
            "Colocations handled automatically by placer.\n",
            "==============\n",
            "The sum of a and b is: Tensor(\"Add:0\", shape=(), dtype=int32)\n",
            "==============\n"
          ],
          "name": "stdout"
        }
      ]
    },
    {
      "cell_type": "code",
      "metadata": {
        "id": "Xi1M1OWSdP0p",
        "colab": {
          "base_uri": "https://localhost:8080/"
        },
        "outputId": "160e646f-8a03-4299-9cde-bd084d2043f8"
      },
      "source": [
        "# \"Execution phase\" where we run a session \n",
        "# this makes it super difficult to debug and develop models\n",
        "# Create a session, assign it to variable sess so we can call it later\n",
        "# Within the session, evaluate the graph to fetch the value of variable\n",
        "with tf.Session() as sess:\n",
        "  sess.run(tf.global_variables_initializer()) #initialize all variables #The easiest way is initializing all variables at once:\n",
        "  c = sess.run(c) #run the session\n",
        "print(\"The sum of a and b is:\", c) # we now get the expected answer, i.e: 8"
      ],
      "execution_count": null,
      "outputs": [
        {
          "output_type": "stream",
          "text": [
            "The sum of a and b is: 9\n"
          ],
          "name": "stdout"
        }
      ]
    },
    {
      "cell_type": "code",
      "metadata": {
        "colab": {
          "base_uri": "https://localhost:8080/"
        },
        "id": "M_WL0kuD790Y",
        "outputId": "5a863cda-2639-4e9f-e606-38889fee5b00"
      },
      "source": [
        "# create a placeholder of type float 32-bit, shape is a vector of 3 elements\n",
        "a = tf.placeholder(tf.float32, shape=[3])\n",
        "# create a constant of type float 32-bit, shape is a vector of 3 elements\n",
        "b = tf.constant([5, 5, 5], tf.float32)\n",
        "# use the placeholder as you would a constant or a variable\n",
        "c = a + b # Short for tf.add(a, b)\n",
        "with tf.Session() as sess: # feed [1, 2, 3] to placeholder a via the dict {a: [1, 2, 3]} # fetch value of c\n",
        "  print(sess.run(c, {a: [1, 2, 3]})) # the tensor a is the key, not the string ‘a’"
      ],
      "execution_count": null,
      "outputs": [
        {
          "output_type": "stream",
          "text": [
            "[6. 7. 8.]\n"
          ],
          "name": "stdout"
        }
      ]
    },
    {
      "cell_type": "code",
      "metadata": {
        "colab": {
          "base_uri": "https://localhost:8080/"
        },
        "id": "oX9DY-Mu7_4C",
        "outputId": "40d57850-0abb-4a5c-b6e7-c4f6278c1cd4"
      },
      "source": [
        "# create operations, tensors, etc \n",
        "p = tf.add(2, 5)\n",
        "q = tf.multiply(p, 3)\n",
        "with tf.Session() as sess:# define a dictionary that says to replace the value of 'p' with 15\n",
        "  replace_dictionary = {p: 15} # Run the session, passing in 'replace_dictionary' as the value to 'feed_dict'\n",
        "  print(sess.run(q, feed_dict=replace_dictionary)) # returns 45"
      ],
      "execution_count": null,
      "outputs": [
        {
          "output_type": "stream",
          "text": [
            "45\n"
          ],
          "name": "stdout"
        }
      ]
    },
    {
      "cell_type": "markdown",
      "metadata": {
        "id": "64VdOroibOt4"
      },
      "source": [
        "Possible to break graphs into several\n",
        "chunks and run them parallelly\n",
        "across multiple CPUs, GPUs, or\n",
        "devices.\n",
        "\n",
        "Example :- AlexNet (ImageNet Classification with Deep Convolutional Neural Networks)"
      ]
    },
    {
      "cell_type": "markdown",
      "metadata": {
        "id": "NqxABRvhV90W"
      },
      "source": [
        "**Linear Regression**\n",
        "- Linear Regression is a very common statistical method that allows us to learn a function or relationship from a given set of continuous data. For example, we are given some data points of x and corresponding y and we need to learn the relationship between them that is called a hypothesis.\n",
        "\n",
        "- In case of Linear regression, the hypothesis is a straight line, i.e,\n",
        " h(x) = wx + b \n",
        "Where w is a vector called Weights and b is a scalar called Bias. The Weights and Bias are called the parameters of the model.\n",
        "\n",
        "- All we need to do is estimate the value of w and b from the given set of data such that the resultant hypothesis produces the least cost J which is defined by the cost function\n",
        "where m is the number of data points in the given dataset. This cost function is also called Mean Squared Error.\n",
        "![Screenshot 2020-12-18 at 1.53.28 PM.png](data:image/png;base64,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)\n",
        "\n",
        "- For finding the optimized value of the parameters for which J is minimum, we will be using a commonly used optimizer algorithm called Gradient Descent.\n",
        "\n"
      ]
    },
    {
      "cell_type": "code",
      "metadata": {
        "id": "izhxnOLQ9vIu"
      },
      "source": [
        "### Add Tensorflow Regression \n",
        "import numpy as np \n",
        "import tensorflow as tf \n",
        "import matplotlib.pyplot as plt "
      ],
      "execution_count": null,
      "outputs": []
    },
    {
      "cell_type": "code",
      "metadata": {
        "id": "kj5sNIDMAMFn"
      },
      "source": [
        "# In order to make the random numbers predictable, we will define fixed seeds for both Numpy and Tensorflow.\n",
        "# With the seed reset (every time), the same set of numbers will appear every time. \n",
        "# If the random seed is not reset, different numbers appear with every invocation.\n",
        "np.random.seed(101) \n",
        "tf.set_random_seed(101)"
      ],
      "execution_count": null,
      "outputs": []
    },
    {
      "cell_type": "code",
      "metadata": {
        "id": "2nSqp_RwAO7K",
        "colab": {
          "base_uri": "https://localhost:8080/"
        },
        "outputId": "5e1d607d-29a6-4931-e62d-f91d4f3d05e3"
      },
      "source": [
        "# Genrating random linear data \n",
        "# There will be 50 data points ranging from 0 to 50 \n",
        "x = np.linspace(0, 50, 50) #linspace: Return evenly spaced numbers over a specified interval.\n",
        "#print(x)\n",
        "y = np.linspace(0, 50, 50) \n",
        "#print(y)\n",
        "  \n",
        "# Adding noise to the random linear data  for variation\n",
        "x += np.random.uniform(-4, 4, 50) # np.random.uniform: Draw samples from a uniform distribution.\n",
        "y += np.random.uniform(-4, 4, 50) \n",
        "\n",
        "#print(x)\n",
        "#print(y)  \n",
        "n = len(x) # Number of data points \n",
        "print(n)"
      ],
      "execution_count": null,
      "outputs": [
        {
          "output_type": "stream",
          "text": [
            "[ 1.55651732 -0.23993769  1.33994084  0.97955221  7.83232046  3.41049688\n",
            "  3.30094188  4.17758066 11.71571371  7.99514759 12.07262254 14.53560601\n",
            " 13.85279791 12.3735563  17.8237886  17.1980531  14.23424572 19.9371286\n",
            " 20.4522545  18.54542769 18.0096666  23.12934321 25.21145077 22.41856008\n",
            " 23.98563687 24.3629854  24.4485115  28.77804554 27.69494218 30.85410088\n",
            " 29.51043174 30.48466917 30.21507403 37.57197139 30.88032149 36.09892928\n",
            " 37.22195703 34.35313954 41.91367828 36.68090166 41.82251414 38.64353164\n",
            " 44.54396517 46.92818706 46.46027889 44.04774894 50.21848591 48.59613057\n",
            " 47.857087   52.8210739 ]\n",
            "[-2.0305663   3.26396101 -1.59510638  6.141554    2.29300242  5.74943603\n",
            "  9.40774708 11.08358551  4.66105762 12.61152497 10.34136648 14.78754648\n",
            " 12.62034663 11.37859916 15.46342213 15.01000562 17.37458783 17.43682917\n",
            " 16.14639403 21.26371821 22.80545419 24.4415447  20.86997001 24.34356108\n",
            " 21.16980459 24.06362669 29.05460598 30.53027178 31.69708899 31.11111595\n",
            " 33.93992925 30.89021524 29.95394353 31.14619822 32.48404723 31.723795\n",
            " 34.54894739 41.20293737 40.68365863 43.13573597 41.64431022 41.47209102\n",
            " 41.36497401 42.92540596 46.04045528 48.37062742 43.98299732 49.80370469\n",
            " 45.02309676 51.20529059]\n",
            "50\n"
          ],
          "name": "stdout"
        }
      ]
    },
    {
      "cell_type": "code",
      "metadata": {
        "id": "QnaL0fq4ARdA",
        "colab": {
          "base_uri": "https://localhost:8080/",
          "height": 295
        },
        "outputId": "4b0c6f0c-e9fa-4d1f-f2fd-47d3ca5b64d9"
      },
      "source": [
        "# Plot of Training Data \n",
        "plt.scatter(x, y) \n",
        "plt.xlabel('x') \n",
        "plt.xlabel('y') \n",
        "plt.title(\"Training Data\") \n",
        "plt.show()"
      ],
      "execution_count": null,
      "outputs": [
        {
          "output_type": "display_data",
          "data": {
            "image/png": "[encoded data removed]",
            "text/plain": [
              "<Figure size 432x288 with 1 Axes>"
            ]
          },
          "metadata": {
            "tags": [],
            "needs_background": "light"
          }
        }
      ]
    },
    {
      "cell_type": "code",
      "metadata": {
        "id": "OvQj0qQlATzh"
      },
      "source": [
        "X = tf.placeholder(\"float\") \n",
        "Y = tf.placeholder(\"float\") \n"
      ],
      "execution_count": null,
      "outputs": []
    },
    {
      "cell_type": "code",
      "metadata": {
        "id": "3w4ZhZwYAXEy",
        "colab": {
          "base_uri": "https://localhost:8080/"
        },
        "outputId": "9ba4b2a5-7ad4-4a1a-ed87-c929af1e2d61"
      },
      "source": [
        "W = tf.Variable(np.random.randn(), name = \"W\") \n",
        "b = tf.Variable(np.random.randn(), name = \"b\") \n",
        "print(W)\n",
        "print(b)"
      ],
      "execution_count": null,
      "outputs": [
        {
          "output_type": "stream",
          "text": [
            "<tf.Variable 'W_2:0' shape=() dtype=float32_ref>\n",
            "<tf.Variable 'b_2:0' shape=() dtype=float32_ref>\n"
          ],
          "name": "stdout"
        }
      ]
    },
    {
      "cell_type": "code",
      "metadata": {
        "id": "yGScWifdAZWj"
      },
      "source": [
        "learning_rate = 0.01\n",
        "training_epochs = 1000\n"
      ],
      "execution_count": null,
      "outputs": []
    },
    {
      "cell_type": "code",
      "metadata": {
        "id": "QkVs3v7GAbqz",
        "colab": {
          "base_uri": "https://localhost:8080/"
        },
        "outputId": "cecadc24-c75c-4328-a3d3-dab1629cdd63"
      },
      "source": [
        "# Hypothesis \n",
        "y_pred = tf.add(tf.multiply(X, W), b) \n",
        "\n",
        "# Mean Squared Error Cost Function \n",
        "cost = tf.reduce_sum(tf.pow(y_pred-Y, 2)) / (2 * n) \n",
        "\n",
        "# Gradient Descent Optimizer \n",
        "optimizer = tf.train.GradientDescentOptimizer(learning_rate).minimize(cost) # Optimizer that implements the gradient descent algorithm.\n",
        "\n",
        "# Global Variables Initializer \n",
        "init = tf.global_variables_initializer() \n"
      ],
      "execution_count": null,
      "outputs": [
        {
          "output_type": "stream",
          "text": [
            "WARNING:tensorflow:From /usr/local/lib/python3.6/dist-packages/tensorflow/python/ops/math_ops.py:3066: to_int32 (from tensorflow.python.ops.math_ops) is deprecated and will be removed in a future version.\n",
            "Instructions for updating:\n",
            "Use tf.cast instead.\n"
          ],
          "name": "stdout"
        }
      ]
    },
    {
      "cell_type": "markdown",
      "metadata": {
        "id": "jy24s1uG-vGy"
      },
      "source": [
        "**Saving The Model**"
      ]
    },
    {
      "cell_type": "code",
      "metadata": {
        "id": "N-XnM3Rzu6Nn"
      },
      "source": [
        "saver = tf.train.Saver()"
      ],
      "execution_count": null,
      "outputs": []
    },
    {
      "cell_type": "code",
      "metadata": {
        "colab": {
          "base_uri": "https://localhost:8080/"
        },
        "id": "XlbEOQCDAeuN",
        "outputId": "62367ace-d2a0-4fae-a38e-b06b19152bc6"
      },
      "source": [
        "# Starting the Tensorflow Session \n",
        "with tf.Session() as sess: \n",
        "\n",
        "  # Initializing the Variables \n",
        "  sess.run(init) \n",
        "\n",
        "  # Iterating through all the epochs \n",
        "  for epoch in range(training_epochs): \n",
        "\n",
        "    # Feeding each data point into the optimizer using Feed Dictionary \n",
        "    for (_x, _y) in zip(x, y): \n",
        "      sess.run(optimizer, feed_dict = {X : _x, Y : _y}) \n",
        "\n",
        "    # Displaying the result after every 50 epochs \n",
        "    if (epoch + 1) % 50 == 0: \n",
        "      # Calculating the cost a every epoch \n",
        "      c = sess.run(cost, feed_dict = {X : x, Y : y}) \n",
        "      print(\"Epoch\", (epoch + 1), \": cost =\", c, \"W =\", sess.run(W), \"b =\", sess.run(b)) \n",
        "\n",
        "  # Storing necessary values to be used outside the Session \n",
        "  training_cost = sess.run(cost, feed_dict ={X: x, Y: y}) \n",
        "  weight = sess.run(W) \n",
        "  bias = sess.run(b)\n",
        "  saver.save(sess,'new_models/my_second_model.ckpt')"
      ],
      "execution_count": null,
      "outputs": [
        {
          "output_type": "stream",
          "text": [
            "Epoch 50 : cost = 6.695736 W = 0.94032514 b = 1.3574065\n",
            "Epoch 100 : cost = 6.6912284 W = 0.93906134 b = 1.4212178\n",
            "Epoch 150 : cost = 6.6883616 W = 0.93792874 b = 1.4784023\n",
            "Epoch 200 : cost = 6.6867332 W = 0.93691367 b = 1.529655\n",
            "Epoch 250 : cost = 6.68603 W = 0.936004 b = 1.5755827\n",
            "Epoch 300 : cost = 6.6860075 W = 0.9351888 b = 1.6167445\n",
            "Epoch 350 : cost = 6.6864753 W = 0.93445814 b = 1.6536338\n",
            "Epoch 400 : cost = 6.6872854 W = 0.93380356 b = 1.6866854\n",
            "Epoch 450 : cost = 6.688325 W = 0.9332169 b = 1.7163044\n",
            "Epoch 500 : cost = 6.68951 W = 0.93269116 b = 1.7428483\n",
            "Epoch 550 : cost = 6.690775 W = 0.93222004 b = 1.7666366\n",
            "Epoch 600 : cost = 6.6920714 W = 0.93179786 b = 1.7879524\n",
            "Epoch 650 : cost = 6.6933637 W = 0.93141955 b = 1.8070567\n",
            "Epoch 700 : cost = 6.694627 W = 0.9310805 b = 1.8241726\n",
            "Epoch 750 : cost = 6.6958427 W = 0.9307766 b = 1.8395197\n",
            "Epoch 800 : cost = 6.697001 W = 0.93050426 b = 1.8532689\n",
            "Epoch 850 : cost = 6.698092 W = 0.93026036 b = 1.8655847\n",
            "Epoch 900 : cost = 6.6991153 W = 0.93004155 b = 1.8766291\n",
            "Epoch 950 : cost = 6.7000675 W = 0.9298455 b = 1.8865274\n",
            "Epoch 1000 : cost = 6.7009473 W = 0.9296699 b = 1.8953934\n"
          ],
          "name": "stdout"
        }
      ]
    },
    {
      "cell_type": "code",
      "metadata": {
        "id": "AVP3Kd0nAoXl",
        "colab": {
          "base_uri": "https://localhost:8080/"
        },
        "outputId": "2aecc193-6552-4b51-b071-0290f176f406"
      },
      "source": [
        "# Calculating the predictions \n",
        "predictions = weight * x + bias \n",
        "print(\"Training cost =\", training_cost, \"Weight =\", weight, \"bias =\", bias, '\\n') \n"
      ],
      "execution_count": null,
      "outputs": [
        {
          "output_type": "stream",
          "text": [
            "Training cost = 6.7009473 Weight = 0.9296699 bias = 1.8953934 \n",
            "\n"
          ],
          "name": "stdout"
        }
      ]
    },
    {
      "cell_type": "code",
      "metadata": {
        "id": "i8PmshTDAsT7",
        "colab": {
          "base_uri": "https://localhost:8080/",
          "height": 281
        },
        "outputId": "d2db5ab7-41cf-4011-9758-81545dd14b4c"
      },
      "source": [
        "# Plotting the Results \n",
        "plt.plot(x, y, 'ro', label ='Original data') \n",
        "plt.plot(x, predictions, label ='Fitted line') \n",
        "plt.title('Linear Regression Result') \n",
        "plt.legend() \n",
        "plt.show() \n"
      ],
      "execution_count": null,
      "outputs": [
        {
          "output_type": "display_data",
          "data": {
            "image/png": "[encoded data removed]",
            "text/plain": [
              "<Figure size 432x288 with 1 Axes>"
            ]
          },
          "metadata": {
            "tags": [],
            "needs_background": "light"
          }
        }
      ]
    },
    {
      "cell_type": "markdown",
      "metadata": {
        "id": "EYd9y2H8_xoc"
      },
      "source": [
        "**Loading a Model**\n",
        "\n"
      ]
    },
    {
      "cell_type": "code",
      "metadata": {
        "colab": {
          "base_uri": "https://localhost:8080/"
        },
        "id": "JEGJaYRh_urA",
        "outputId": "df31723d-44da-4a65-aa65-66e739742b61"
      },
      "source": [
        "with tf.Session() as sess:  \n",
        "    # Restore the model\n",
        "    saver.restore(sess,'new_models/my_second_model.ckpt')\n",
        "    # Fetch Back Results\n",
        "    restored_slope , restored_intercept = sess.run([W,b])"
      ],
      "execution_count": null,
      "outputs": [
        {
          "output_type": "stream",
          "text": [
            "WARNING:tensorflow:From /usr/local/lib/python3.6/dist-packages/tensorflow/python/training/saver.py:1266: checkpoint_exists (from tensorflow.python.training.checkpoint_management) is deprecated and will be removed in a future version.\n",
            "Instructions for updating:\n",
            "Use standard file APIs to check for files with this prefix.\n",
            "INFO:tensorflow:Restoring parameters from new_models/my_second_model.ckpt\n"
          ],
          "name": "stdout"
        }
      ]
    },
    {
      "cell_type": "code",
      "metadata": {
        "colab": {
          "base_uri": "https://localhost:8080/",
          "height": 282
        },
        "id": "UlitI6BUAEbc",
        "outputId": "66daf156-c846-4f77-934b-67ab721b560b"
      },
      "source": [
        "x_test = np.linspace(-1,51,50)\n",
        "y_pred_plot = restored_slope*x_test + restored_intercept\n",
        "plt.plot(x_test,y_pred_plot,'r')\n",
        "plt.plot(x,y,'*')"
      ],
      "execution_count": null,
      "outputs": [
        {
          "output_type": "execute_result",
          "data": {
            "text/plain": [
              "[<matplotlib.lines.Line2D at 0x7fd8b53ebda0>]"
            ]
          },
          "metadata": {
            "tags": []
          },
          "execution_count": 26
        },
        {
          "output_type": "display_data",
          "data": {
            "image/png": "[encoded data removed]",
            "text/plain": [
              "<Figure size 432x288 with 1 Axes>"
            ]
          },
          "metadata": {
            "tags": [],
            "needs_background": "light"
          }
        }
      ]
    }
  ]
}